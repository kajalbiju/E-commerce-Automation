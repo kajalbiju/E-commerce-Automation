{
 "cells": [
  {
   "cell_type": "markdown",
   "metadata": {},
   "source": [
    "## Image Captioning"
   ]
  },
  {
   "cell_type": "code",
   "execution_count": 3,
   "metadata": {},
   "outputs": [
    {
     "name": "stdout",
     "output_type": "stream",
     "text": [
      "Requirement already satisfied: transformers in c:\\users\\sapta\\appdata\\local\\programs\\python\\python310\\lib\\site-packages (4.46.2)\n",
      "Requirement already satisfied: filelock in c:\\users\\sapta\\appdata\\local\\programs\\python\\python310\\lib\\site-packages (from transformers) (3.14.0)\n",
      "Requirement already satisfied: huggingface-hub<1.0,>=0.23.2 in c:\\users\\sapta\\appdata\\local\\programs\\python\\python310\\lib\\site-packages (from transformers) (0.26.2)\n",
      "Requirement already satisfied: numpy>=1.17 in c:\\users\\sapta\\appdata\\local\\programs\\python\\python310\\lib\\site-packages (from transformers) (1.26.4)\n",
      "Requirement already satisfied: packaging>=20.0 in c:\\users\\sapta\\appdata\\local\\programs\\python\\python310\\lib\\site-packages (from transformers) (23.2)\n",
      "Requirement already satisfied: pyyaml>=5.1 in c:\\users\\sapta\\appdata\\local\\programs\\python\\python310\\lib\\site-packages (from transformers) (6.0.1)\n",
      "Requirement already satisfied: regex!=2019.12.17 in c:\\users\\sapta\\appdata\\local\\programs\\python\\python310\\lib\\site-packages (from transformers) (2024.5.10)\n",
      "Requirement already satisfied: requests in c:\\users\\sapta\\appdata\\local\\programs\\python\\python310\\lib\\site-packages (from transformers) (2.31.0)\n",
      "Requirement already satisfied: safetensors>=0.4.1 in c:\\users\\sapta\\appdata\\local\\programs\\python\\python310\\lib\\site-packages (from transformers) (0.4.5)\n",
      "Requirement already satisfied: tokenizers<0.21,>=0.20 in c:\\users\\sapta\\appdata\\local\\programs\\python\\python310\\lib\\site-packages (from transformers) (0.20.3)\n",
      "Requirement already satisfied: tqdm>=4.27 in c:\\users\\sapta\\appdata\\local\\programs\\python\\python310\\lib\\site-packages (from transformers) (4.66.4)\n",
      "Requirement already satisfied: fsspec>=2023.5.0 in c:\\users\\sapta\\appdata\\local\\programs\\python\\python310\\lib\\site-packages (from huggingface-hub<1.0,>=0.23.2->transformers) (2024.3.1)\n",
      "Requirement already satisfied: typing-extensions>=3.7.4.3 in c:\\users\\sapta\\appdata\\local\\programs\\python\\python310\\lib\\site-packages (from huggingface-hub<1.0,>=0.23.2->transformers) (4.11.0)\n",
      "Requirement already satisfied: colorama in c:\\users\\sapta\\appdata\\local\\programs\\python\\python310\\lib\\site-packages (from tqdm>=4.27->transformers) (0.4.6)\n",
      "Requirement already satisfied: charset-normalizer<4,>=2 in c:\\users\\sapta\\appdata\\local\\programs\\python\\python310\\lib\\site-packages (from requests->transformers) (3.3.2)\n",
      "Requirement already satisfied: idna<4,>=2.5 in c:\\users\\sapta\\appdata\\local\\programs\\python\\python310\\lib\\site-packages (from requests->transformers) (3.6)\n",
      "Requirement already satisfied: urllib3<3,>=1.21.1 in c:\\users\\sapta\\appdata\\local\\programs\\python\\python310\\lib\\site-packages (from requests->transformers) (2.1.0)\n",
      "Requirement already satisfied: certifi>=2017.4.17 in c:\\users\\sapta\\appdata\\local\\programs\\python\\python310\\lib\\site-packages (from requests->transformers) (2023.11.17)\n"
     ]
    }
   ],
   "source": [
    "!pip install transformers\n"
   ]
  },
  {
   "cell_type": "code",
   "execution_count": 4,
   "metadata": {},
   "outputs": [
    {
     "name": "stderr",
     "output_type": "stream",
     "text": [
      "c:\\Users\\sapta\\AppData\\Local\\Programs\\Python\\Python310\\lib\\site-packages\\tqdm\\auto.py:21: TqdmWarning: IProgress not found. Please update jupyter and ipywidgets. See https://ipywidgets.readthedocs.io/en/stable/user_install.html\n",
      "  from .autonotebook import tqdm as notebook_tqdm\n"
     ]
    },
    {
     "name": "stdout",
     "output_type": "stream",
     "text": [
      "cpu\n"
     ]
    }
   ],
   "source": [
    "import requests\n",
    "from PIL import Image\n",
    "from transformers import BlipProcessor, BlipForConditionalGeneration\n",
    "import torch\n",
    "import cv2\n",
    "\n",
    "device = torch.device('cuda' if torch.cuda.is_available() else 'cpu')\n",
    "print(device)\n",
    "processor = BlipProcessor.from_pretrained(\"noamrot/FuseCap\")\n",
    "model1 = BlipForConditionalGeneration.from_pretrained(\"noamrot/FuseCap\").to(device)"
   ]
  },
  {
   "cell_type": "code",
   "execution_count": 5,
   "metadata": {},
   "outputs": [
    {
     "name": "stdout",
     "output_type": "stream",
     "text": [
      "describe the image features a collection of blue bottles, including a coca - cola bottle, arranged in a row from left to right the bottles are labeled with the brand ' s name and logo,\n"
     ]
    }
   ],
   "source": [
    "# img_url=\"https://cdn.dribbble.com/users/5054637/screenshots/14026155/media/7cc1339278e8a82be1cd66a7f9c5f6d2.jpeg\"\n",
    "# raw_image = Image.open(requests.get(img_url, stream=True).raw).convert('RGB')\n",
    "\n",
    "# raw_image=cv2.imread(\"WIN_20241113_16_35_15_Pro.jpg\")\n",
    "raw_image=cv2.imread(\"Images/3.jpg\")\n",
    "text = \"describe the image\"\n",
    "inputs = processor(raw_image, text, return_tensors=\"pt\").to(device)\n",
    "\n",
    "out = model1.generate(**inputs, num_beams = 3)\n",
    "corpus1= processor.decode(out[0], skip_special_tokens=True)\n",
    "print(corpus1)"
   ]
  },
  {
   "cell_type": "markdown",
   "metadata": {},
   "source": [
    "## OCR"
   ]
  },
  {
   "cell_type": "code",
   "execution_count": 6,
   "metadata": {},
   "outputs": [
    {
     "name": "stdout",
     "output_type": "stream",
     "text": [
      "Requirement already satisfied: paddleocr in c:\\users\\sapta\\appdata\\local\\programs\\python\\python310\\lib\\site-packages (2.9.1)\n",
      "Requirement already satisfied: shapely in c:\\users\\sapta\\appdata\\local\\programs\\python\\python310\\lib\\site-packages (from paddleocr) (2.0.6)\n",
      "Requirement already satisfied: scikit-image in c:\\users\\sapta\\appdata\\local\\programs\\python\\python310\\lib\\site-packages (from paddleocr) (0.24.0)\n",
      "Requirement already satisfied: imgaug in c:\\users\\sapta\\appdata\\local\\programs\\python\\python310\\lib\\site-packages (from paddleocr) (0.4.0)\n",
      "Requirement already satisfied: pyclipper in c:\\users\\sapta\\appdata\\local\\programs\\python\\python310\\lib\\site-packages (from paddleocr) (1.3.0.post6)\n",
      "Requirement already satisfied: lmdb in c:\\users\\sapta\\appdata\\local\\programs\\python\\python310\\lib\\site-packages (from paddleocr) (1.5.1)\n",
      "Requirement already satisfied: tqdm in c:\\users\\sapta\\appdata\\local\\programs\\python\\python310\\lib\\site-packages (from paddleocr) (4.66.4)\n",
      "Requirement already satisfied: numpy<2.0 in c:\\users\\sapta\\appdata\\local\\programs\\python\\python310\\lib\\site-packages (from paddleocr) (1.26.4)\n",
      "Requirement already satisfied: rapidfuzz in c:\\users\\sapta\\appdata\\local\\programs\\python\\python310\\lib\\site-packages (from paddleocr) (3.10.1)\n",
      "Requirement already satisfied: opencv-python in c:\\users\\sapta\\appdata\\local\\programs\\python\\python310\\lib\\site-packages (from paddleocr) (4.10.0.84)\n",
      "Requirement already satisfied: opencv-contrib-python in c:\\users\\sapta\\appdata\\local\\programs\\python\\python310\\lib\\site-packages (from paddleocr) (4.10.0.84)\n",
      "Requirement already satisfied: cython in c:\\users\\sapta\\appdata\\local\\programs\\python\\python310\\lib\\site-packages (from paddleocr) (3.0.11)\n",
      "Requirement already satisfied: Pillow in c:\\users\\sapta\\appdata\\local\\programs\\python\\python310\\lib\\site-packages (from paddleocr) (10.3.0)\n",
      "Requirement already satisfied: pyyaml in c:\\users\\sapta\\appdata\\local\\programs\\python\\python310\\lib\\site-packages (from paddleocr) (6.0.1)\n",
      "Requirement already satisfied: python-docx in c:\\users\\sapta\\appdata\\local\\programs\\python\\python310\\lib\\site-packages (from paddleocr) (1.1.2)\n",
      "Requirement already satisfied: beautifulsoup4 in c:\\users\\sapta\\appdata\\local\\programs\\python\\python310\\lib\\site-packages (from paddleocr) (4.12.3)\n",
      "Requirement already satisfied: fonttools>=4.24.0 in c:\\users\\sapta\\appdata\\local\\programs\\python\\python310\\lib\\site-packages (from paddleocr) (4.54.1)\n",
      "Requirement already satisfied: fire>=0.3.0 in c:\\users\\sapta\\appdata\\local\\programs\\python\\python310\\lib\\site-packages (from paddleocr) (0.7.0)\n",
      "Requirement already satisfied: requests in c:\\users\\sapta\\appdata\\local\\programs\\python\\python310\\lib\\site-packages (from paddleocr) (2.31.0)\n",
      "Requirement already satisfied: albumentations==1.4.10 in c:\\users\\sapta\\appdata\\local\\programs\\python\\python310\\lib\\site-packages (from paddleocr) (1.4.10)\n",
      "Requirement already satisfied: albucore==0.0.13 in c:\\users\\sapta\\appdata\\local\\programs\\python\\python310\\lib\\site-packages (from paddleocr) (0.0.13)\n",
      "Requirement already satisfied: tomli>=2.0.1 in c:\\users\\sapta\\appdata\\local\\programs\\python\\python310\\lib\\site-packages (from albucore==0.0.13->paddleocr) (2.0.1)\n",
      "Requirement already satisfied: typing-extensions>=4.9.0 in c:\\users\\sapta\\appdata\\local\\programs\\python\\python310\\lib\\site-packages (from albucore==0.0.13->paddleocr) (4.11.0)\n",
      "Requirement already satisfied: opencv-python-headless>=4.9.0.80 in c:\\users\\sapta\\appdata\\local\\programs\\python\\python310\\lib\\site-packages (from albucore==0.0.13->paddleocr) (4.10.0.84)\n",
      "Requirement already satisfied: scipy>=1.10.0 in c:\\users\\sapta\\appdata\\local\\programs\\python\\python310\\lib\\site-packages (from albumentations==1.4.10->paddleocr) (1.14.0)\n",
      "Requirement already satisfied: scikit-learn>=1.3.2 in c:\\users\\sapta\\appdata\\local\\programs\\python\\python310\\lib\\site-packages (from albumentations==1.4.10->paddleocr) (1.5.0)\n",
      "Requirement already satisfied: pydantic>=2.7.0 in c:\\users\\sapta\\appdata\\local\\programs\\python\\python310\\lib\\site-packages (from albumentations==1.4.10->paddleocr) (2.9.2)\n",
      "Requirement already satisfied: termcolor in c:\\users\\sapta\\appdata\\local\\programs\\python\\python310\\lib\\site-packages (from fire>=0.3.0->paddleocr) (1.1.0)\n",
      "Requirement already satisfied: networkx>=2.8 in c:\\users\\sapta\\appdata\\local\\programs\\python\\python310\\lib\\site-packages (from scikit-image->paddleocr) (3.3)\n",
      "Requirement already satisfied: imageio>=2.33 in c:\\users\\sapta\\appdata\\local\\programs\\python\\python310\\lib\\site-packages (from scikit-image->paddleocr) (2.36.0)\n",
      "Requirement already satisfied: tifffile>=2022.8.12 in c:\\users\\sapta\\appdata\\local\\programs\\python\\python310\\lib\\site-packages (from scikit-image->paddleocr) (2024.9.20)\n",
      "Requirement already satisfied: packaging>=21 in c:\\users\\sapta\\appdata\\local\\programs\\python\\python310\\lib\\site-packages (from scikit-image->paddleocr) (23.2)\n",
      "Requirement already satisfied: lazy-loader>=0.4 in c:\\users\\sapta\\appdata\\local\\programs\\python\\python310\\lib\\site-packages (from scikit-image->paddleocr) (0.4)\n",
      "Requirement already satisfied: soupsieve>1.2 in c:\\users\\sapta\\appdata\\local\\programs\\python\\python310\\lib\\site-packages (from beautifulsoup4->paddleocr) (2.5)\n",
      "Requirement already satisfied: six in c:\\users\\sapta\\appdata\\local\\programs\\python\\python310\\lib\\site-packages (from imgaug->paddleocr) (1.16.0)\n",
      "Requirement already satisfied: matplotlib in c:\\users\\sapta\\appdata\\local\\programs\\python\\python310\\lib\\site-packages (from imgaug->paddleocr) (3.9.2)\n",
      "Requirement already satisfied: lxml>=3.1.0 in c:\\users\\sapta\\appdata\\local\\programs\\python\\python310\\lib\\site-packages (from python-docx->paddleocr) (5.3.0)\n",
      "Requirement already satisfied: charset-normalizer<4,>=2 in c:\\users\\sapta\\appdata\\local\\programs\\python\\python310\\lib\\site-packages (from requests->paddleocr) (3.3.2)\n",
      "Requirement already satisfied: idna<4,>=2.5 in c:\\users\\sapta\\appdata\\local\\programs\\python\\python310\\lib\\site-packages (from requests->paddleocr) (3.6)\n",
      "Requirement already satisfied: urllib3<3,>=1.21.1 in c:\\users\\sapta\\appdata\\local\\programs\\python\\python310\\lib\\site-packages (from requests->paddleocr) (2.1.0)\n",
      "Requirement already satisfied: certifi>=2017.4.17 in c:\\users\\sapta\\appdata\\local\\programs\\python\\python310\\lib\\site-packages (from requests->paddleocr) (2023.11.17)\n",
      "Requirement already satisfied: colorama in c:\\users\\sapta\\appdata\\local\\programs\\python\\python310\\lib\\site-packages (from tqdm->paddleocr) (0.4.6)\n",
      "Requirement already satisfied: annotated-types>=0.6.0 in c:\\users\\sapta\\appdata\\local\\programs\\python\\python310\\lib\\site-packages (from pydantic>=2.7.0->albumentations==1.4.10->paddleocr) (0.7.0)\n",
      "Requirement already satisfied: pydantic-core==2.23.4 in c:\\users\\sapta\\appdata\\local\\programs\\python\\python310\\lib\\site-packages (from pydantic>=2.7.0->albumentations==1.4.10->paddleocr) (2.23.4)\n",
      "Requirement already satisfied: joblib>=1.2.0 in c:\\users\\sapta\\appdata\\local\\programs\\python\\python310\\lib\\site-packages (from scikit-learn>=1.3.2->albumentations==1.4.10->paddleocr) (1.4.2)\n",
      "Requirement already satisfied: threadpoolctl>=3.1.0 in c:\\users\\sapta\\appdata\\local\\programs\\python\\python310\\lib\\site-packages (from scikit-learn>=1.3.2->albumentations==1.4.10->paddleocr) (3.5.0)\n",
      "Requirement already satisfied: contourpy>=1.0.1 in c:\\users\\sapta\\appdata\\local\\programs\\python\\python310\\lib\\site-packages (from matplotlib->imgaug->paddleocr) (1.3.0)\n",
      "Requirement already satisfied: cycler>=0.10 in c:\\users\\sapta\\appdata\\local\\programs\\python\\python310\\lib\\site-packages (from matplotlib->imgaug->paddleocr) (0.12.1)\n",
      "Requirement already satisfied: kiwisolver>=1.3.1 in c:\\users\\sapta\\appdata\\local\\programs\\python\\python310\\lib\\site-packages (from matplotlib->imgaug->paddleocr) (1.4.7)\n",
      "Requirement already satisfied: pyparsing>=2.3.1 in c:\\users\\sapta\\appdata\\local\\programs\\python\\python310\\lib\\site-packages (from matplotlib->imgaug->paddleocr) (3.2.0)\n",
      "Requirement already satisfied: python-dateutil>=2.7 in c:\\users\\sapta\\appdata\\roaming\\python\\python310\\site-packages (from matplotlib->imgaug->paddleocr) (2.9.0.post0)\n"
     ]
    }
   ],
   "source": [
    "!pip install paddleocr"
   ]
  },
  {
   "cell_type": "code",
   "execution_count": 7,
   "metadata": {},
   "outputs": [],
   "source": [
    "from paddleocr import PaddleOCR, draw_ocr # main OCR dependencies\n",
    "from matplotlib import pyplot as plt # plot images\n",
    "import cv2 #opencv\n",
    "import os # folder directory navigation"
   ]
  },
  {
   "cell_type": "code",
   "execution_count": 8,
   "metadata": {},
   "outputs": [
    {
     "name": "stdout",
     "output_type": "stream",
     "text": [
      "download https://paddleocr.bj.bcebos.com/dygraph_v2.0/ch/ch_ppocr_mobile_v2.0_cls_infer.tar to C:\\Users\\sapta/.paddleocr/whl\\cls\\ch_ppocr_mobile_v2.0_cls_infer\\ch_ppocr_mobile_v2.0_cls_infer.tar\n",
      "[2024/11/13 20:05:02] ppocr INFO: Path C:\\Users\\sapta/.paddleocr/whl\\cls\\ch_ppocr_mobile_v2.0_cls_infer\\ch_ppocr_mobile_v2.0_cls_infer.tar already exists. Skipping...\n",
      "[2024/11/13 20:05:02] ppocr DEBUG: Namespace(help='==SUPPRESS==', use_gpu=False, use_xpu=False, use_npu=False, use_mlu=False, ir_optim=True, use_tensorrt=False, min_subgraph_size=15, precision='fp32', gpu_mem=500, gpu_id=0, image_dir=None, page_num=0, det_algorithm='DB', det_model_dir='C:\\\\Users\\\\sapta/.paddleocr/whl\\\\det\\\\en\\\\en_PP-OCRv3_det_infer', det_limit_side_len=960, det_limit_type='max', det_box_type='quad', det_db_thresh=0.3, det_db_box_thresh=0.6, det_db_unclip_ratio=1.5, max_batch_size=10, use_dilation=False, det_db_score_mode='fast', det_east_score_thresh=0.8, det_east_cover_thresh=0.1, det_east_nms_thresh=0.2, det_sast_score_thresh=0.5, det_sast_nms_thresh=0.2, det_pse_thresh=0, det_pse_box_thresh=0.85, det_pse_min_area=16, det_pse_scale=1, scales=[8, 16, 32], alpha=1.0, beta=1.0, fourier_degree=5, rec_algorithm='SVTR_LCNet', rec_model_dir='C:\\\\Users\\\\sapta/.paddleocr/whl\\\\rec\\\\en\\\\en_PP-OCRv4_rec_infer', rec_image_inverse=True, rec_image_shape='3, 48, 320', rec_batch_num=6, max_text_length=25, rec_char_dict_path='c:\\\\Users\\\\sapta\\\\AppData\\\\Local\\\\Programs\\\\Python\\\\Python310\\\\lib\\\\site-packages\\\\paddleocr\\\\ppocr\\\\utils\\\\en_dict.txt', use_space_char=True, vis_font_path='./doc/fonts/simfang.ttf', drop_score=0.5, e2e_algorithm='PGNet', e2e_model_dir=None, e2e_limit_side_len=768, e2e_limit_type='max', e2e_pgnet_score_thresh=0.5, e2e_char_dict_path='./ppocr/utils/ic15_dict.txt', e2e_pgnet_valid_set='totaltext', e2e_pgnet_mode='fast', use_angle_cls=False, cls_model_dir='C:\\\\Users\\\\sapta/.paddleocr/whl\\\\cls\\\\ch_ppocr_mobile_v2.0_cls_infer', cls_image_shape='3, 48, 192', label_list=['0', '180'], cls_batch_num=6, cls_thresh=0.9, enable_mkldnn=False, cpu_threads=10, use_pdserving=False, warmup=False, sr_model_dir=None, sr_image_shape='3, 32, 128', sr_batch_num=1, draw_img_save_dir='./inference_results', save_crop_res=False, crop_res_save_dir='./output', use_mp=False, total_process_num=1, process_id=0, benchmark=False, save_log_path='./log_output/', show_log=True, use_onnx=False, return_word_box=False, output='./output', table_max_len=488, table_algorithm='TableAttn', table_model_dir=None, merge_no_span_structure=True, table_char_dict_path=None, formula_algorithm='LaTeXOCR', formula_model_dir=None, formula_char_dict_path=None, formula_batch_num=1, layout_model_dir=None, layout_dict_path=None, layout_score_threshold=0.5, layout_nms_threshold=0.5, kie_algorithm='LayoutXLM', ser_model_dir=None, re_model_dir=None, use_visual_backbone=True, ser_dict_path='../train_data/XFUND/class_list_xfun.txt', ocr_order_method=None, mode='structure', image_orientation=False, layout=True, table=True, formula=False, ocr=True, recovery=False, recovery_to_markdown=False, use_pdf2docx_api=False, invert=False, binarize=False, alphacolor=(255, 255, 255), lang='en', det=True, rec=True, type='ocr', savefile=False, ocr_version='PP-OCRv4', structure_version='PP-StructureV2')\n"
     ]
    }
   ],
   "source": [
    "ocr_model = PaddleOCR(lang='en')\n"
   ]
  },
  {
   "cell_type": "code",
   "execution_count": 9,
   "metadata": {},
   "outputs": [
    {
     "name": "stdout",
     "output_type": "stream",
     "text": [
      "[2024/11/13 20:05:04] ppocr WARNING: Since the angle classifier is not initialized, it will not be used during the forward process\n",
      "[2024/11/13 20:05:04] ppocr DEBUG: dt_boxes num : 13, elapsed : 0.691596508026123\n",
      "[2024/11/13 20:05:05] ppocr DEBUG: rec_res num  : 13, elapsed : 0.7526006698608398\n"
     ]
    }
   ],
   "source": [
    "result=ocr_model.ocr(\"Images/3.jpg\")"
   ]
  },
  {
   "cell_type": "code",
   "execution_count": 10,
   "metadata": {},
   "outputs": [
    {
     "data": {
      "text/plain": [
       "'THE ~MEDIA ANT Coca-Cola Find even more Anna nameswith Aart #ShareaCoke Rive Um Awr www.themediaant.com'"
      ]
     },
     "execution_count": 10,
     "metadata": {},
     "output_type": "execute_result"
    }
   ],
   "source": [
    "corpus = []\n",
    "if result[0]!=None:\n",
    "    for item in result[0]:\n",
    "        text = item[1][0]  # Access the text part in each tuple\n",
    "        corpus.append(text) # Append to corpus list\n",
    "\n",
    "    # Join the list items into a single string for the corpus if needed\n",
    "    corpus_text = ' '.join(corpus)\n",
    "else:\n",
    "    corpus_text=''\n",
    "\n",
    "corpus_text"
   ]
  },
  {
   "cell_type": "markdown",
   "metadata": {},
   "source": [
    "## Mistral model for labelling using API"
   ]
  },
  {
   "cell_type": "code",
   "execution_count": 11,
   "metadata": {},
   "outputs": [
    {
     "name": "stdout",
     "output_type": "stream",
     "text": [
      "Collecting mistralai\n",
      "  Downloading mistralai-1.2.2-py3-none-any.whl.metadata (26 kB)\n",
      "Collecting eval-type-backport<0.3.0,>=0.2.0 (from mistralai)\n",
      "  Downloading eval_type_backport-0.2.0-py3-none-any.whl.metadata (2.2 kB)\n",
      "Requirement already satisfied: httpx<0.28.0,>=0.27.0 in c:\\users\\sapta\\appdata\\local\\programs\\python\\python310\\lib\\site-packages (from mistralai) (0.27.2)\n",
      "Collecting jsonpath-python<2.0.0,>=1.0.6 (from mistralai)\n",
      "  Downloading jsonpath_python-1.0.6-py3-none-any.whl.metadata (12 kB)\n",
      "Requirement already satisfied: pydantic<3.0.0,>=2.9.0 in c:\\users\\sapta\\appdata\\local\\programs\\python\\python310\\lib\\site-packages (from mistralai) (2.9.2)\n",
      "Collecting python-dateutil==2.8.2 (from mistralai)\n",
      "  Downloading python_dateutil-2.8.2-py2.py3-none-any.whl.metadata (8.2 kB)\n",
      "Collecting typing-inspect<0.10.0,>=0.9.0 (from mistralai)\n",
      "  Downloading typing_inspect-0.9.0-py3-none-any.whl.metadata (1.5 kB)\n",
      "Requirement already satisfied: six>=1.5 in c:\\users\\sapta\\appdata\\local\\programs\\python\\python310\\lib\\site-packages (from python-dateutil==2.8.2->mistralai) (1.16.0)\n",
      "Requirement already satisfied: anyio in c:\\users\\sapta\\appdata\\local\\programs\\python\\python310\\lib\\site-packages (from httpx<0.28.0,>=0.27.0->mistralai) (4.6.2.post1)\n",
      "Requirement already satisfied: certifi in c:\\users\\sapta\\appdata\\local\\programs\\python\\python310\\lib\\site-packages (from httpx<0.28.0,>=0.27.0->mistralai) (2023.11.17)\n",
      "Requirement already satisfied: httpcore==1.* in c:\\users\\sapta\\appdata\\local\\programs\\python\\python310\\lib\\site-packages (from httpx<0.28.0,>=0.27.0->mistralai) (1.0.6)\n",
      "Requirement already satisfied: idna in c:\\users\\sapta\\appdata\\local\\programs\\python\\python310\\lib\\site-packages (from httpx<0.28.0,>=0.27.0->mistralai) (3.6)\n",
      "Requirement already satisfied: sniffio in c:\\users\\sapta\\appdata\\local\\programs\\python\\python310\\lib\\site-packages (from httpx<0.28.0,>=0.27.0->mistralai) (1.3.1)\n",
      "Requirement already satisfied: h11<0.15,>=0.13 in c:\\users\\sapta\\appdata\\local\\programs\\python\\python310\\lib\\site-packages (from httpcore==1.*->httpx<0.28.0,>=0.27.0->mistralai) (0.14.0)\n",
      "Requirement already satisfied: annotated-types>=0.6.0 in c:\\users\\sapta\\appdata\\local\\programs\\python\\python310\\lib\\site-packages (from pydantic<3.0.0,>=2.9.0->mistralai) (0.7.0)\n",
      "Requirement already satisfied: pydantic-core==2.23.4 in c:\\users\\sapta\\appdata\\local\\programs\\python\\python310\\lib\\site-packages (from pydantic<3.0.0,>=2.9.0->mistralai) (2.23.4)\n",
      "Requirement already satisfied: typing-extensions>=4.6.1 in c:\\users\\sapta\\appdata\\local\\programs\\python\\python310\\lib\\site-packages (from pydantic<3.0.0,>=2.9.0->mistralai) (4.11.0)\n",
      "Collecting mypy-extensions>=0.3.0 (from typing-inspect<0.10.0,>=0.9.0->mistralai)\n",
      "  Downloading mypy_extensions-1.0.0-py3-none-any.whl.metadata (1.1 kB)\n",
      "Requirement already satisfied: exceptiongroup>=1.0.2 in c:\\users\\sapta\\appdata\\roaming\\python\\python310\\site-packages (from anyio->httpx<0.28.0,>=0.27.0->mistralai) (1.2.2)\n",
      "Downloading mistralai-1.2.2-py3-none-any.whl (254 kB)\n",
      "Downloading python_dateutil-2.8.2-py2.py3-none-any.whl (247 kB)\n",
      "Downloading eval_type_backport-0.2.0-py3-none-any.whl (5.9 kB)\n",
      "Downloading jsonpath_python-1.0.6-py3-none-any.whl (7.6 kB)\n",
      "Downloading typing_inspect-0.9.0-py3-none-any.whl (8.8 kB)\n",
      "Downloading mypy_extensions-1.0.0-py3-none-any.whl (4.7 kB)\n",
      "Installing collected packages: python-dateutil, mypy-extensions, jsonpath-python, eval-type-backport, typing-inspect, mistralai\n",
      "  Attempting uninstall: python-dateutil\n",
      "    Found existing installation: python-dateutil 2.9.0.post0\n",
      "    Uninstalling python-dateutil-2.9.0.post0:\n",
      "      Successfully uninstalled python-dateutil-2.9.0.post0\n",
      "Successfully installed eval-type-backport-0.2.0 jsonpath-python-1.0.6 mistralai-1.2.2 mypy-extensions-1.0.0 python-dateutil-2.8.2 typing-inspect-0.9.0\n"
     ]
    }
   ],
   "source": [
    "!pip install mistralai"
   ]
  },
  {
   "cell_type": "code",
   "execution_count": 14,
   "metadata": {},
   "outputs": [],
   "source": [
    "coprus3=\"get your coke at flat 50 off today\""
   ]
  },
  {
   "cell_type": "code",
   "execution_count": 15,
   "metadata": {},
   "outputs": [
    {
     "name": "stdout",
     "output_type": "stream",
     "text": [
      "- **Product Name**: Coca-Cola Bottle\n",
      "- **Colour**: Blue\n",
      "- **Price**: 50% off (actual price not specified)\n",
      "- **Size**: Not specified\n",
      "- **Weight**: Not specified\n",
      "- **Description**: A collection of blue Coca-Cola bottles, arranged in a row, labeled with the brand's name and logo.\n",
      "- **Subcategory**: Beverages, Soft Drinks\n"
     ]
    }
   ],
   "source": [
    "import os\n",
    "from mistralai import Mistral\n",
    "\n",
    "api_key = \"iBGDfsGLNlGIr26A09CCttgSkaCjDwEM\"\n",
    "model = \"mistral-large-latest\"\n",
    "client = Mistral(api_key=api_key)\n",
    "\n",
    "\n",
    "\n",
    "chat_response = client.chat.complete(\n",
    "    model=model,\n",
    "    messages=[\n",
    "        {\n",
    "            \"role\": \"user\",\n",
    "            \"content\": (\n",
    "                \"You are a product classifier chatbot. Given the following inputs, identify if it describes a product, \"\n",
    "                \"and if so, provide the product details including name, price, size, weight, description, and subcategory.\\n\\n\"\n",
    "                f\"1. OCR Text: {corpus1}\\n\"\n",
    "                f\"2. Image Caption: {corpus_text}\\n\"\n",
    "                f\"3. Instagram Caption: {coprus3}\\n\\n\"\n",
    "                \"If it is a product, respond with the following format:\\n\"\n",
    "                \"- **Product Name**: \\n\"\n",
    "                \"- **Colour**: \\n\"\n",
    "                \"- **Price**: \\n\"\n",
    "                \"- **Size**: \\n\"\n",
    "                \"- **Weight**: \\n\"\n",
    "                \"- **Description**: \\n\"\n",
    "                \"- **Subcategory**: \\n\\n\"\n",
    "                \"If it’s not a product, simply respond 'Not a product.'\"\n",
    "            ),\n",
    "        },\n",
    "    ]\n",
    ")\n",
    "\n",
    "\n",
    "print(chat_response.choices[0].message.content)\n"
   ]
  },
  {
   "cell_type": "markdown",
   "metadata": {},
   "source": []
  }
 ],
 "metadata": {
  "kernelspec": {
   "display_name": "Python 3",
   "language": "python",
   "name": "python3"
  },
  "language_info": {
   "codemirror_mode": {
    "name": "ipython",
    "version": 3
   },
   "file_extension": ".py",
   "mimetype": "text/x-python",
   "name": "python",
   "nbconvert_exporter": "python",
   "pygments_lexer": "ipython3",
   "version": "3.10.0"
  }
 },
 "nbformat": 4,
 "nbformat_minor": 2
}
